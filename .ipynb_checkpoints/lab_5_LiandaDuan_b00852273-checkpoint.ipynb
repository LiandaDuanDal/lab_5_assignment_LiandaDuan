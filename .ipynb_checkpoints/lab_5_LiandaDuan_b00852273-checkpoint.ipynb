{
 "cells": [
  {
   "cell_type": "markdown",
   "metadata": {},
   "source": [
    "# Lab 5\n",
    "\n",
    "# Classes (Objects, Methods and Inheritance)"
   ]
  },
  {
   "cell_type": "markdown",
   "metadata": {},
   "source": [
    "# HOMEWORK"
   ]
  },
  {
   "cell_type": "markdown",
   "metadata": {},
   "source": [
    "# Q1"
   ]
  },
  {
   "cell_type": "code",
   "execution_count": 82,
   "metadata": {},
   "outputs": [
    {
     "ename": "RecursionError",
     "evalue": "maximum recursion depth exceeded while calling a Python object",
     "output_type": "error",
     "traceback": [
      "\u001b[0;31m---------------------------------------------------------------------------\u001b[0m",
      "\u001b[0;31mRecursionError\u001b[0m                            Traceback (most recent call last)",
      "\u001b[0;32m<ipython-input-82-877fb30ce849>\u001b[0m in \u001b[0;36m<module>\u001b[0;34m\u001b[0m\n\u001b[1;32m     10\u001b[0m             \u001b[0;32mreturn\u001b[0m \u001b[0msumm\u001b[0m\u001b[0;34m+\u001b[0m\u001b[0msum_all\u001b[0m\u001b[0;34m(\u001b[0m\u001b[0mlist_in\u001b[0m\u001b[0;34m)\u001b[0m\u001b[0;34m\u001b[0m\u001b[0;34m\u001b[0m\u001b[0m\n\u001b[1;32m     11\u001b[0m \u001b[0;34m\u001b[0m\u001b[0m\n\u001b[0;32m---> 12\u001b[0;31m \u001b[0mprint\u001b[0m\u001b[0;34m(\u001b[0m\u001b[0msum_all\u001b[0m\u001b[0;34m(\u001b[0m\u001b[0mnested_list\u001b[0m\u001b[0;34m)\u001b[0m\u001b[0;34m)\u001b[0m\u001b[0;34m\u001b[0m\u001b[0;34m\u001b[0m\u001b[0m\n\u001b[0m",
      "\u001b[0;32m<ipython-input-82-877fb30ce849>\u001b[0m in \u001b[0;36msum_all\u001b[0;34m(list_in)\u001b[0m\n\u001b[1;32m      8\u001b[0m     \u001b[0;32melse\u001b[0m\u001b[0;34m:\u001b[0m\u001b[0;34m\u001b[0m\u001b[0;34m\u001b[0m\u001b[0m\n\u001b[1;32m      9\u001b[0m         \u001b[0;32mfor\u001b[0m \u001b[0m_\u001b[0m \u001b[0;32min\u001b[0m \u001b[0mlist_in\u001b[0m\u001b[0;34m:\u001b[0m\u001b[0;34m\u001b[0m\u001b[0;34m\u001b[0m\u001b[0m\n\u001b[0;32m---> 10\u001b[0;31m             \u001b[0;32mreturn\u001b[0m \u001b[0msumm\u001b[0m\u001b[0;34m+\u001b[0m\u001b[0msum_all\u001b[0m\u001b[0;34m(\u001b[0m\u001b[0mlist_in\u001b[0m\u001b[0;34m)\u001b[0m\u001b[0;34m\u001b[0m\u001b[0;34m\u001b[0m\u001b[0m\n\u001b[0m\u001b[1;32m     11\u001b[0m \u001b[0;34m\u001b[0m\u001b[0m\n\u001b[1;32m     12\u001b[0m \u001b[0mprint\u001b[0m\u001b[0;34m(\u001b[0m\u001b[0msum_all\u001b[0m\u001b[0;34m(\u001b[0m\u001b[0mnested_list\u001b[0m\u001b[0;34m)\u001b[0m\u001b[0;34m)\u001b[0m\u001b[0;34m\u001b[0m\u001b[0;34m\u001b[0m\u001b[0m\n",
      "... last 1 frames repeated, from the frame below ...\n",
      "\u001b[0;32m<ipython-input-82-877fb30ce849>\u001b[0m in \u001b[0;36msum_all\u001b[0;34m(list_in)\u001b[0m\n\u001b[1;32m      8\u001b[0m     \u001b[0;32melse\u001b[0m\u001b[0;34m:\u001b[0m\u001b[0;34m\u001b[0m\u001b[0;34m\u001b[0m\u001b[0m\n\u001b[1;32m      9\u001b[0m         \u001b[0;32mfor\u001b[0m \u001b[0m_\u001b[0m \u001b[0;32min\u001b[0m \u001b[0mlist_in\u001b[0m\u001b[0;34m:\u001b[0m\u001b[0;34m\u001b[0m\u001b[0;34m\u001b[0m\u001b[0m\n\u001b[0;32m---> 10\u001b[0;31m             \u001b[0;32mreturn\u001b[0m \u001b[0msumm\u001b[0m\u001b[0;34m+\u001b[0m\u001b[0msum_all\u001b[0m\u001b[0;34m(\u001b[0m\u001b[0mlist_in\u001b[0m\u001b[0;34m)\u001b[0m\u001b[0;34m\u001b[0m\u001b[0;34m\u001b[0m\u001b[0m\n\u001b[0m\u001b[1;32m     11\u001b[0m \u001b[0;34m\u001b[0m\u001b[0m\n\u001b[1;32m     12\u001b[0m \u001b[0mprint\u001b[0m\u001b[0;34m(\u001b[0m\u001b[0msum_all\u001b[0m\u001b[0;34m(\u001b[0m\u001b[0mnested_list\u001b[0m\u001b[0;34m)\u001b[0m\u001b[0;34m)\u001b[0m\u001b[0;34m\u001b[0m\u001b[0;34m\u001b[0m\u001b[0m\n",
      "\u001b[0;31mRecursionError\u001b[0m: maximum recursion depth exceeded while calling a Python object"
     ]
    }
   ],
   "source": [
    "nested_list= [1,2,3,4,5,[6,7,8],[9,10,[1,2],11,12]]\n",
    "# ss = 0\n",
    "def sum_all(list_in):\n",
    "    flag = True\n",
    "    summ = 0\n",
    "    if not isinstance(list_in,list):\n",
    "        return list_in\n",
    "    else:\n",
    "        for _ in list_in:\n",
    "            return summ+sum_all(list_in)\n",
    "        \n",
    "print(sum_all(nested_list))"
   ]
  },
  {
   "cell_type": "code",
   "execution_count": null,
   "metadata": {},
   "outputs": [],
   "source": []
  },
  {
   "cell_type": "code",
   "execution_count": null,
   "metadata": {},
   "outputs": [],
   "source": []
  },
  {
   "cell_type": "code",
   "execution_count": null,
   "metadata": {},
   "outputs": [],
   "source": []
  },
  {
   "cell_type": "markdown",
   "metadata": {},
   "source": [
    "# Task"
   ]
  },
  {
   "cell_type": "markdown",
   "metadata": {},
   "source": [
    "# Task 1"
   ]
  },
  {
   "cell_type": "code",
   "execution_count": 7,
   "metadata": {},
   "outputs": [
    {
     "name": "stdout",
     "output_type": "stream",
     "text": [
      "distance between points is: 1.4142135623730951\n"
     ]
    }
   ],
   "source": [
    "class Point(object):\n",
    "    def __init__(self, x, y):\n",
    "        self.x = x\n",
    "        self.y = y\n",
    "    def __str__(self):\n",
    "        return f\"x: {self.x}, y: {self.y}\"\n",
    "\n",
    "        \n",
    "def distance_between_points(point_from, porint_to):\n",
    "        from math import sqrt\n",
    "        return sqrt((point_from.x-porint_to.x)**2+(point_from.y-porint_to.y)**2)\n",
    "    \n",
    "p_f = Point(0,0)\n",
    "p_t = Point(1,1)\n",
    "\n",
    "print(\"distance between points is: {}\".format(distance_between_points(p_f,p_t)))\n",
    "# print(p_f)"
   ]
  },
  {
   "cell_type": "markdown",
   "metadata": {},
   "source": [
    "# Task 2"
   ]
  },
  {
   "cell_type": "code",
   "execution_count": 10,
   "metadata": {},
   "outputs": [
    {
     "name": "stdout",
     "output_type": "stream",
     "text": [
      "x: 50.0, y: 100.0\n"
     ]
    }
   ],
   "source": [
    "class Rectangle(object):\n",
    "    def __init__(self, width = 100, height = 200 ,corner = Point(0,0)):\n",
    "        self.width = width\n",
    "        self.height = height\n",
    "        self.corner = corner\n",
    "        \n",
    "    def __str__(self):\n",
    "        return f\"corner: {self.corner}, width: {self.width}, height {self.height}\"\n",
    "        \n",
    "def find_center(rect_input):\n",
    "    x_return = rect_input.width/2.0+rect_input.corner.x\n",
    "    y_return = rect_input.height/2.0+rect_input.corner.y\n",
    "    return Point(x_return,y_return)\n",
    "    \n",
    "    \n",
    "rect = Rectangle(100,200,Point(0,0))\n",
    "print(find_center(rect))"
   ]
  },
  {
   "cell_type": "code",
   "execution_count": 14,
   "metadata": {},
   "outputs": [
    {
     "name": "stdout",
     "output_type": "stream",
     "text": [
      "corner: x: 1, y: 2, width: 100, height 200\n"
     ]
    }
   ],
   "source": [
    "def move_rectangle(rect_input, d_x, d_y):\n",
    "    rect_input.corner.x = rect_input.corner.x+d_x\n",
    "    rect_input.corner.y = rect_input.corner.y+d_y\n",
    "#     return rect_input\n",
    "move_rectangle(rect, 1,2)\n",
    "print(rect)"
   ]
  },
  {
   "cell_type": "markdown",
   "metadata": {},
   "source": [
    "# Task 3"
   ]
  },
  {
   "cell_type": "markdown",
   "metadata": {},
   "source": [
    "PS: actually the answer of this part is much the same as previous part."
   ]
  },
  {
   "cell_type": "code",
   "execution_count": 16,
   "metadata": {},
   "outputs": [
    {
     "name": "stdout",
     "output_type": "stream",
     "text": [
      "x: 250, y: 666\n"
     ]
    }
   ],
   "source": [
    "class Point(object):\n",
    "    def __init__(self, x, y):\n",
    "        self.x = x\n",
    "        self.y = y\n",
    "    def __str__(self):\n",
    "        return f\"x: {self.x}, y: {self.y}\"\n",
    "    def __add__(self, another_point):\n",
    "        new_x = self.x + another_point.x\n",
    "        new_y = self.y + another_point.y\n",
    "        return Point(new_x,new_y)\n",
    "\n",
    "point_test = Point(250,666)\n",
    "point_to_add = Point(2,3)\n",
    "print(point_test)"
   ]
  },
  {
   "cell_type": "code",
   "execution_count": 18,
   "metadata": {},
   "outputs": [
    {
     "name": "stdout",
     "output_type": "stream",
     "text": [
      "x: 252, y: 669\n"
     ]
    }
   ],
   "source": [
    "print(point_test + point_to_add)"
   ]
  },
  {
   "cell_type": "markdown",
   "metadata": {},
   "source": [
    "# Task 4"
   ]
  },
  {
   "cell_type": "code",
   "execution_count": 53,
   "metadata": {},
   "outputs": [],
   "source": [
    "class Time(object):\n",
    "    def __init__(self,hour, minutes, seconds):\n",
    "        self.hour = hour\n",
    "        self.minutes = minutes\n",
    "        self.seconds = seconds\n",
    "    def __str__(self):\n",
    "#         return (\"%.2d:%.2d:%.2d\"%(self.hour,self.minutes,self.seconds))\n",
    "        return \"{:0>2d}:{:0>2d}:{:0>2d}\".format(self.hour,self.minutes,self.seconds)"
   ]
  },
  {
   "cell_type": "code",
   "execution_count": 54,
   "metadata": {},
   "outputs": [
    {
     "name": "stdout",
     "output_type": "stream",
     "text": [
      "02:34:01\n"
     ]
    }
   ],
   "source": [
    "t_demo = Time(2,34,1)\n",
    "print(t_demo)"
   ]
  },
  {
   "cell_type": "code",
   "execution_count": 57,
   "metadata": {},
   "outputs": [
    {
     "name": "stdout",
     "output_type": "stream",
     "text": [
      "False\n",
      "True\n"
     ]
    }
   ],
   "source": [
    "def is_after(t1,t2):\n",
    "    t1_sum = t1.hour+t1.minutes+t1.seconds\n",
    "    t2_sum = t2.hour+t2.minutes+t2.seconds\n",
    "    return t1_sum>t2_sum\n",
    "\n",
    "t1 = Time(0,0,0)\n",
    "t2 = Time(1,1,1)\n",
    "\n",
    "print(is_after(t1,t2))\n",
    "print(is_after(t2,t1))"
   ]
  },
  {
   "cell_type": "markdown",
   "metadata": {},
   "source": [
    "# Task 5"
   ]
  },
  {
   "cell_type": "code",
   "execution_count": 67,
   "metadata": {},
   "outputs": [],
   "source": [
    "class Kangaroo(object):\n",
    "    def __init__(self):\n",
    "        self.pouch_contents = []\n",
    "    def put_in_pouch(self, obj_input):\n",
    "        self.pouch_contents.append(obj_input)\n",
    "    def __str__(self):\n",
    "        #returns a string representation of the Kangaroo object \n",
    "        #and the contents of the pouch.\n",
    "        st_1 = self.pouch_contents\n",
    "        st_2 = str(len(self.pouch_contents))\n",
    "        return f\"length of kangaroo obj: {st_2}\\n content: {st_1}\"\n"
   ]
  },
  {
   "cell_type": "code",
   "execution_count": 68,
   "metadata": {},
   "outputs": [
    {
     "name": "stdout",
     "output_type": "stream",
     "text": [
      "length of kangaroo obj: 2\n",
      " content: [<__main__.Point object at 0x7f9d80741b10>, <__main__.Point object at 0x7f9d80741150>]\n",
      "length of kangaroo obj: 2\n",
      " content: [<__main__.Point object at 0x7f9d80741650>, <__main__.Point object at 0x7f9d80741650>]\n",
      "================\n",
      "length of kangaroo obj: 3\n",
      " content: [<__main__.Point object at 0x7f9d80741b10>, <__main__.Point object at 0x7f9d80741150>, [<__main__.Point object at 0x7f9d80741650>, <__main__.Point object at 0x7f9d80741650>]]\n"
     ]
    }
   ],
   "source": [
    "kanga = Kangaroo()\n",
    "roo = Kangaroo()\n",
    "#test_data:\n",
    "test_point_1 = Point(1,1)\n",
    "test_point_2 = Point(2,2)\n",
    "test_point_3 = Point(3,3)\n",
    "test_point_4 = Point(4,4)\n",
    "kanga.put_in_pouch(test_point_1)\n",
    "kanga.put_in_pouch(test_point_2)\n",
    "\n",
    "roo.put_in_pouch(test_point_3)\n",
    "roo.put_in_pouch(test_point_3)\n",
    "print(kanga)\n",
    "print(roo)\n",
    "print('================')\n",
    "kanga.put_in_pouch(roo.pouch_contents)\n",
    "print(kanga)\n"
   ]
  },
  {
   "cell_type": "markdown",
   "metadata": {},
   "source": [
    "# Task 6"
   ]
  },
  {
   "cell_type": "code",
   "execution_count": 69,
   "metadata": {},
   "outputs": [
    {
     "name": "stdout",
     "output_type": "stream",
     "text": [
      "True\tFalse\tFalse\t\n",
      "True\tTrue\tFalse\t\n",
      "True\tTrue\tTrue\t\n"
     ]
    }
   ],
   "source": [
    "class Vehicle:\n",
    "    pass\n",
    "class LandVehicle(Vehicle):\n",
    "    pass\n",
    "class TrackedVehicle(LandVehicle):\n",
    "    pass\n",
    "\n",
    "vehicle = Vehicle()\n",
    "landvehicle = LandVehicle()\n",
    "trackedvehicle = TrackedVehicle()\n",
    "\n",
    "for ob in [vehicle, landvehicle, trackedvehicle]:\n",
    "    for cl in [Vehicle, LandVehicle, TrackedVehicle]:\n",
    "        print(isinstance(ob,cl),end='\\t')\n",
    "    print()"
   ]
  },
  {
   "cell_type": "markdown",
   "metadata": {},
   "source": [
    "# Task 7"
   ]
  },
  {
   "cell_type": "code",
   "execution_count": 70,
   "metadata": {},
   "outputs": [
    {
     "name": "stdout",
     "output_type": "stream",
     "text": [
      "True\tFalse\tFalse\t\n",
      "True\tTrue\tFalse\t\n",
      "True\tTrue\tTrue\t\n"
     ]
    }
   ],
   "source": [
    "class Vehicle:\n",
    "    pass\n",
    "class LandVehicle(Vehicle):\n",
    "    pass\n",
    "class TrackedVehicle(LandVehicle):\n",
    "    pass\n",
    "\n",
    "vehicle = Vehicle()\n",
    "landvehicle = LandVehicle()\n",
    "trackedvehicle = TrackedVehicle()\n",
    "\n",
    "for ob in [vehicle, landvehicle, trackedvehicle]:\n",
    "    for cl in [Vehicle, LandVehicle, TrackedVehicle]:\n",
    "        print(isinstance(ob,cl),end='\\t')\n",
    "    print()"
   ]
  },
  {
   "cell_type": "code",
   "execution_count": null,
   "metadata": {},
   "outputs": [],
   "source": []
  }
 ],
 "metadata": {
  "kernelspec": {
   "display_name": "Python 3",
   "language": "python",
   "name": "python3"
  },
  "language_info": {
   "codemirror_mode": {
    "name": "ipython",
    "version": 3
   },
   "file_extension": ".py",
   "mimetype": "text/x-python",
   "name": "python",
   "nbconvert_exporter": "python",
   "pygments_lexer": "ipython3",
   "version": "3.7.4"
  }
 },
 "nbformat": 4,
 "nbformat_minor": 2
}
