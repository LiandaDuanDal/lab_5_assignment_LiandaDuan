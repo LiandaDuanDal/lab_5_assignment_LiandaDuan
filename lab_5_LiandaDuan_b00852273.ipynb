{
 "cells": [
  {
   "cell_type": "markdown",
   "metadata": {},
   "source": [
    "# Lab 5\n",
    "\n",
    "# Classes (Objects, Methods and Inheritance)"
   ]
  },
  {
   "cell_type": "markdown",
   "metadata": {},
   "source": [
    "# HOMEWORK"
   ]
  },
  {
   "cell_type": "markdown",
   "metadata": {},
   "source": [
    "# Q1"
   ]
  },
  {
   "cell_type": "code",
   "execution_count": 263,
   "metadata": {},
   "outputs": [],
   "source": [
    "def add_point(point_1,point_2):\n",
    "    if isinstance(point_2, Point):\n",
    "        return Point(point_1.x+point_2.x,point_1.y+point_2.y)\n",
    "    elif isinstance(point_2, tuple):\n",
    "        return Point(point_1.x+point_2[0],point_1.y+point_2[1])"
   ]
  },
  {
   "cell_type": "code",
   "execution_count": 264,
   "metadata": {},
   "outputs": [],
   "source": [
    "test_tup = (1,2)\n",
    "test_point_1 = Point(3,4)\n",
    "test_point_2 = Point(5,6)"
   ]
  },
  {
   "cell_type": "code",
   "execution_count": 265,
   "metadata": {},
   "outputs": [
    {
     "name": "stdout",
     "output_type": "stream",
     "text": [
      "x: 8, y: 10\n"
     ]
    }
   ],
   "source": [
    "print(add_point(test_point_1,test_point_2))"
   ]
  },
  {
   "cell_type": "code",
   "execution_count": 266,
   "metadata": {},
   "outputs": [
    {
     "name": "stdout",
     "output_type": "stream",
     "text": [
      "x: 4, y: 6\n"
     ]
    }
   ],
   "source": [
    "print(add_point(test_point_1,test_tup))"
   ]
  },
  {
   "cell_type": "markdown",
   "metadata": {},
   "source": [
    "# Q2"
   ]
  },
  {
   "cell_type": "code",
   "execution_count": 63,
   "metadata": {
    "scrolled": true
   },
   "outputs": [
    {
     "name": "stdout",
     "output_type": "stream",
     "text": [
      "Collecting IPy\n",
      "  Downloading https://files.pythonhosted.org/packages/e1/66/b6dd22472bb027556849876beae2dd4dca3a4eaf2dd3039277b4edb8c6af/IPy-1.00.tar.gz\n",
      "Building wheels for collected packages: IPy\n",
      "  Building wheel for IPy (setup.py) ... \u001b[?25ldone\n",
      "\u001b[?25h  Created wheel for IPy: filename=IPy-1.0-cp37-none-any.whl size=21140 sha256=9a901f5b530cb1a40834904a005e6d38eb832ff69764efbe5e48fbd42c627cd5\n",
      "  Stored in directory: /Users/lianda_duan/Library/Caches/pip/wheels/0f/06/66/dfda745fad5bba30fc94b5c9f2262deb341bb07fa5c6fe5b93\n",
      "Successfully built IPy\n",
      "Installing collected packages: IPy\n",
      "Successfully installed IPy-1.0\n"
     ]
    }
   ],
   "source": [
    "!/Users/lianda_duan/opt/anaconda3/bin/python -m pip install IPy"
   ]
  },
  {
   "cell_type": "code",
   "execution_count": 316,
   "metadata": {},
   "outputs": [],
   "source": [
    "class IP4Addres(object):\n",
    "    def __init__(self,add,mask_num):\n",
    "        from IPy import IP\n",
    "        self.add = add\n",
    "        self.mask_num = mask_num\n",
    "        \n",
    "    def return_one_oct(number_of_one):\n",
    "        return sum([2**i for i in range(number_of_one)])\n",
    "    \n",
    "    def getNetwork(self):\n",
    "\n",
    "        add_str = [str(_) for _ in self.add]\n",
    "        get_ip_str = IP('.'.join(add_str)).make_net(self.mask_num).strNormal()\n",
    "        \n",
    "        get_ip_list = get_ip_str.split('/')\n",
    "        normal_net = get_ip_list[0].split('.')\n",
    "        network = [int(_) for _ in normal_net]\n",
    "        self.network = network\n",
    "        return network\n",
    "\n",
    "    def getMask(self):\n",
    "        self.mask_list = []\n",
    "        full_mask = self.mask_num//8\n",
    "        rest_musk = self.mask_num - full_mask*8\n",
    "        for _ in range(full_mask):\n",
    "            self.mask_list.append(return_one_oct(8))\n",
    "        self.mask_list.append(return_one_oct(rest_musk))\n",
    "        for _ in range(4-len(self.mask_list)):\n",
    "            self.mask_list.append(0)\n",
    "        return (self.mask_list)\n",
    "    def getAddress(self):\n",
    "        add_str_list = [str(_) for _ in self.add]\n",
    "        add_str = '.'.join(add_str_list)\n",
    "        add_str +='/'+str(self.mask_num)\n",
    "#         print(add_str)\n",
    "        ip_obj = IP(add_str,make_net = 1)\n",
    "        ip_add_store = [_ for _ in ip_obj]\n",
    "        return ip_add_store\n",
    "#         pass\n",
    "    def __str__(self):\n",
    "        return f\"Address: {self.add}\\t Musk: {self.getMask()} Network address: {self.getNetwork()}\""
   ]
  },
  {
   "cell_type": "code",
   "execution_count": 317,
   "metadata": {},
   "outputs": [],
   "source": [
    "#examle test\n",
    "ipv4 = IP4Addres([10,0,1,7], 24)"
   ]
  },
  {
   "cell_type": "code",
   "execution_count": 318,
   "metadata": {},
   "outputs": [],
   "source": [
    "# '.'.join([10,0,1,7])"
   ]
  },
  {
   "cell_type": "code",
   "execution_count": 319,
   "metadata": {},
   "outputs": [
    {
     "name": "stdout",
     "output_type": "stream",
     "text": [
      "[10, 0, 1, 0]\n"
     ]
    }
   ],
   "source": [
    "net = ipv4.getNetwork()\n",
    "print(net)"
   ]
  },
  {
   "cell_type": "code",
   "execution_count": 320,
   "metadata": {},
   "outputs": [
    {
     "name": "stdout",
     "output_type": "stream",
     "text": [
      "[255, 255, 255, 0]\n"
     ]
    }
   ],
   "source": [
    "mask = ipv4.getMask()\n",
    "print(mask)"
   ]
  },
  {
   "cell_type": "code",
   "execution_count": 321,
   "metadata": {},
   "outputs": [
    {
     "name": "stdout",
     "output_type": "stream",
     "text": [
      "Address: [10, 0, 1, 7]\t Musk: [255, 255, 255, 0] Network address: [10, 0, 1, 0]\n"
     ]
    }
   ],
   "source": [
    "print(ipv4)"
   ]
  },
  {
   "cell_type": "code",
   "execution_count": 324,
   "metadata": {},
   "outputs": [
    {
     "name": "stdout",
     "output_type": "stream",
     "text": [
      "[IP('10.0.1.0'), IP('10.0.1.1'), IP('10.0.1.2'), IP('10.0.1.3'), IP('10.0.1.4'), IP('10.0.1.5'), IP('10.0.1.6'), IP('10.0.1.7'), IP('10.0.1.8'), IP('10.0.1.9'), IP('10.0.1.10'), IP('10.0.1.11'), IP('10.0.1.12'), IP('10.0.1.13'), IP('10.0.1.14'), IP('10.0.1.15'), IP('10.0.1.16'), IP('10.0.1.17'), IP('10.0.1.18'), IP('10.0.1.19'), IP('10.0.1.20'), IP('10.0.1.21'), IP('10.0.1.22'), IP('10.0.1.23'), IP('10.0.1.24'), IP('10.0.1.25'), IP('10.0.1.26'), IP('10.0.1.27'), IP('10.0.1.28'), IP('10.0.1.29'), IP('10.0.1.30'), IP('10.0.1.31'), IP('10.0.1.32'), IP('10.0.1.33'), IP('10.0.1.34'), IP('10.0.1.35'), IP('10.0.1.36'), IP('10.0.1.37'), IP('10.0.1.38'), IP('10.0.1.39'), IP('10.0.1.40'), IP('10.0.1.41'), IP('10.0.1.42'), IP('10.0.1.43'), IP('10.0.1.44'), IP('10.0.1.45'), IP('10.0.1.46'), IP('10.0.1.47'), IP('10.0.1.48'), IP('10.0.1.49'), IP('10.0.1.50'), IP('10.0.1.51'), IP('10.0.1.52'), IP('10.0.1.53'), IP('10.0.1.54'), IP('10.0.1.55'), IP('10.0.1.56'), IP('10.0.1.57'), IP('10.0.1.58'), IP('10.0.1.59'), IP('10.0.1.60'), IP('10.0.1.61'), IP('10.0.1.62'), IP('10.0.1.63'), IP('10.0.1.64'), IP('10.0.1.65'), IP('10.0.1.66'), IP('10.0.1.67'), IP('10.0.1.68'), IP('10.0.1.69'), IP('10.0.1.70'), IP('10.0.1.71'), IP('10.0.1.72'), IP('10.0.1.73'), IP('10.0.1.74'), IP('10.0.1.75'), IP('10.0.1.76'), IP('10.0.1.77'), IP('10.0.1.78'), IP('10.0.1.79'), IP('10.0.1.80'), IP('10.0.1.81'), IP('10.0.1.82'), IP('10.0.1.83'), IP('10.0.1.84'), IP('10.0.1.85'), IP('10.0.1.86'), IP('10.0.1.87'), IP('10.0.1.88'), IP('10.0.1.89'), IP('10.0.1.90'), IP('10.0.1.91'), IP('10.0.1.92'), IP('10.0.1.93'), IP('10.0.1.94'), IP('10.0.1.95'), IP('10.0.1.96'), IP('10.0.1.97'), IP('10.0.1.98'), IP('10.0.1.99'), IP('10.0.1.100'), IP('10.0.1.101'), IP('10.0.1.102'), IP('10.0.1.103'), IP('10.0.1.104'), IP('10.0.1.105'), IP('10.0.1.106'), IP('10.0.1.107'), IP('10.0.1.108'), IP('10.0.1.109'), IP('10.0.1.110'), IP('10.0.1.111'), IP('10.0.1.112'), IP('10.0.1.113'), IP('10.0.1.114'), IP('10.0.1.115'), IP('10.0.1.116'), IP('10.0.1.117'), IP('10.0.1.118'), IP('10.0.1.119'), IP('10.0.1.120'), IP('10.0.1.121'), IP('10.0.1.122'), IP('10.0.1.123'), IP('10.0.1.124'), IP('10.0.1.125'), IP('10.0.1.126'), IP('10.0.1.127'), IP('10.0.1.128'), IP('10.0.1.129'), IP('10.0.1.130'), IP('10.0.1.131'), IP('10.0.1.132'), IP('10.0.1.133'), IP('10.0.1.134'), IP('10.0.1.135'), IP('10.0.1.136'), IP('10.0.1.137'), IP('10.0.1.138'), IP('10.0.1.139'), IP('10.0.1.140'), IP('10.0.1.141'), IP('10.0.1.142'), IP('10.0.1.143'), IP('10.0.1.144'), IP('10.0.1.145'), IP('10.0.1.146'), IP('10.0.1.147'), IP('10.0.1.148'), IP('10.0.1.149'), IP('10.0.1.150'), IP('10.0.1.151'), IP('10.0.1.152'), IP('10.0.1.153'), IP('10.0.1.154'), IP('10.0.1.155'), IP('10.0.1.156'), IP('10.0.1.157'), IP('10.0.1.158'), IP('10.0.1.159'), IP('10.0.1.160'), IP('10.0.1.161'), IP('10.0.1.162'), IP('10.0.1.163'), IP('10.0.1.164'), IP('10.0.1.165'), IP('10.0.1.166'), IP('10.0.1.167'), IP('10.0.1.168'), IP('10.0.1.169'), IP('10.0.1.170'), IP('10.0.1.171'), IP('10.0.1.172'), IP('10.0.1.173'), IP('10.0.1.174'), IP('10.0.1.175'), IP('10.0.1.176'), IP('10.0.1.177'), IP('10.0.1.178'), IP('10.0.1.179'), IP('10.0.1.180'), IP('10.0.1.181'), IP('10.0.1.182'), IP('10.0.1.183'), IP('10.0.1.184'), IP('10.0.1.185'), IP('10.0.1.186'), IP('10.0.1.187'), IP('10.0.1.188'), IP('10.0.1.189'), IP('10.0.1.190'), IP('10.0.1.191'), IP('10.0.1.192'), IP('10.0.1.193'), IP('10.0.1.194'), IP('10.0.1.195'), IP('10.0.1.196'), IP('10.0.1.197'), IP('10.0.1.198'), IP('10.0.1.199'), IP('10.0.1.200'), IP('10.0.1.201'), IP('10.0.1.202'), IP('10.0.1.203'), IP('10.0.1.204'), IP('10.0.1.205'), IP('10.0.1.206'), IP('10.0.1.207'), IP('10.0.1.208'), IP('10.0.1.209'), IP('10.0.1.210'), IP('10.0.1.211'), IP('10.0.1.212'), IP('10.0.1.213'), IP('10.0.1.214'), IP('10.0.1.215'), IP('10.0.1.216'), IP('10.0.1.217'), IP('10.0.1.218'), IP('10.0.1.219'), IP('10.0.1.220'), IP('10.0.1.221'), IP('10.0.1.222'), IP('10.0.1.223'), IP('10.0.1.224'), IP('10.0.1.225'), IP('10.0.1.226'), IP('10.0.1.227'), IP('10.0.1.228'), IP('10.0.1.229'), IP('10.0.1.230'), IP('10.0.1.231'), IP('10.0.1.232'), IP('10.0.1.233'), IP('10.0.1.234'), IP('10.0.1.235'), IP('10.0.1.236'), IP('10.0.1.237'), IP('10.0.1.238'), IP('10.0.1.239'), IP('10.0.1.240'), IP('10.0.1.241'), IP('10.0.1.242'), IP('10.0.1.243'), IP('10.0.1.244'), IP('10.0.1.245'), IP('10.0.1.246'), IP('10.0.1.247'), IP('10.0.1.248'), IP('10.0.1.249'), IP('10.0.1.250'), IP('10.0.1.251'), IP('10.0.1.252'), IP('10.0.1.253'), IP('10.0.1.254'), IP('10.0.1.255')]\n"
     ]
    }
   ],
   "source": [
    "print(ipv4.getAddress())"
   ]
  },
  {
   "cell_type": "code",
   "execution_count": 279,
   "metadata": {},
   "outputs": [
    {
     "name": "stdout",
     "output_type": "stream",
     "text": [
      "10.0.1.7/24\n",
      "number of available ip address: 256\n"
     ]
    }
   ],
   "source": [
    "print(\"number of available ip address: {}\".format(len(ipv4.getAddress())))"
   ]
  },
  {
   "cell_type": "code",
   "execution_count": 274,
   "metadata": {},
   "outputs": [],
   "source": [
    "# def return_one_oct(number_of_one):\n",
    "#         return sum([2**i for i in range(number_of_one)])\n",
    "# return_one_oct(3)"
   ]
  },
  {
   "cell_type": "code",
   "execution_count": 275,
   "metadata": {},
   "outputs": [],
   "source": [
    "# print(type(bin(32,8)))\n",
    "# help(bin)"
   ]
  },
  {
   "cell_type": "code",
   "execution_count": 276,
   "metadata": {},
   "outputs": [
    {
     "data": {
      "text/plain": [
       "'10.0.1.0/24'"
      ]
     },
     "execution_count": 276,
     "metadata": {},
     "output_type": "execute_result"
    }
   ],
   "source": [
    "from IPy import IP\n",
    "\n",
    "IP('10.0.1.7').make_net(24).strNormal()"
   ]
  },
  {
   "cell_type": "code",
   "execution_count": 66,
   "metadata": {},
   "outputs": [
    {
     "name": "stdout",
     "output_type": "stream",
     "text": [
      "Help on class IP in module IPy:\n",
      "\n",
      "class IP(IPint)\n",
      " |  IP(data, ipversion=0, make_net=0)\n",
      " |  \n",
      " |  Class for handling IP addresses and networks.\n",
      " |  \n",
      " |  Method resolution order:\n",
      " |      IP\n",
      " |      IPint\n",
      " |      builtins.object\n",
      " |  \n",
      " |  Methods defined here:\n",
      " |  \n",
      " |  __getitem__(self, key)\n",
      " |      Called to implement evaluation of self[key].\n",
      " |      \n",
      " |      >>> ip=IP('127.0.0.0/30')\n",
      " |      >>> for x in ip:\n",
      " |      ...  print(str(x))\n",
      " |      ...\n",
      " |      127.0.0.0\n",
      " |      127.0.0.1\n",
      " |      127.0.0.2\n",
      " |      127.0.0.3\n",
      " |      >>> print(str(ip[2]))\n",
      " |      127.0.0.2\n",
      " |      >>> print(str(ip[-1]))\n",
      " |      127.0.0.3\n",
      " |  \n",
      " |  __repr__(self)\n",
      " |      Print a representation of the Object.\n",
      " |      \n",
      " |      >>> IP('10.0.0.0/8')\n",
      " |      IP('10.0.0.0/8')\n",
      " |  \n",
      " |  broadcast(self)\n",
      " |      Return the broadcast (last) address of a network as an IP object.\n",
      " |      \n",
      " |      The same as IP[-1].\n",
      " |      \n",
      " |      >>> IP('10.0.0.0/8').broadcast()\n",
      " |      IP('10.255.255.255')\n",
      " |  \n",
      " |  get_mac(self)\n",
      " |      Get the 802.3 MAC address from IPv6 RFC 2464 address, in lower case.\n",
      " |      Return None if the address is an IPv4 or not a IPv6 RFC 2464 address.\n",
      " |      \n",
      " |      >>> IP('fe80::f66d:04ff:fe47:2fae').get_mac()\n",
      " |      'f4:6d:04:47:2f:ae'\n",
      " |  \n",
      " |  make_net(self, netmask)\n",
      " |      Transform a single IP address into a network specification by\n",
      " |      applying the given netmask.\n",
      " |      \n",
      " |      Returns a new IP instance.\n",
      " |      \n",
      " |      >>> print(IP('127.0.0.1').make_net('255.0.0.0'))\n",
      " |      127.0.0.0/8\n",
      " |  \n",
      " |  net(self)\n",
      " |      Return the base (first) address of a network as an IP object.\n",
      " |      \n",
      " |      The same as IP[0].\n",
      " |      \n",
      " |      >>> IP('10.0.0.0/8').net()\n",
      " |      IP('10.0.0.0')\n",
      " |  \n",
      " |  netmask(self)\n",
      " |      Return netmask as an IP object.\n",
      " |      \n",
      " |      >>> IP('10.0.0.0/8').netmask()\n",
      " |      IP('255.0.0.0')\n",
      " |  \n",
      " |  reverseName(self)\n",
      " |      Return the value for reverse lookup/PTR records as RFC 2317 look alike.\n",
      " |      \n",
      " |      RFC 2317 is an ugly hack which only works for sub-/24 e.g. not\n",
      " |      for /23. Do not use it. Better set up a zone for every\n",
      " |      address. See reverseName for a way to achieve that.\n",
      " |      \n",
      " |      >>> print(IP('195.185.1.1').reverseName())\n",
      " |      1.1.185.195.in-addr.arpa.\n",
      " |      >>> print(IP('195.185.1.0/28').reverseName())\n",
      " |      0-15.1.185.195.in-addr.arpa.\n",
      " |      >>> IP('::1:2').reverseName()\n",
      " |      '2.0.0.0.1.0.0.0.0.0.0.0.0.0.0.0.0.0.0.0.0.0.0.0.0.0.0.0.0.0.0.0.ip6.arpa.'\n",
      " |      >>> IP('ff02::/64').reverseName()\n",
      " |      '0.0.0.0.0.0.0.0.0.0.0.0.2.0.f.f.ip6.arpa.'\n",
      " |  \n",
      " |  reverseNames(self)\n",
      " |      Return a list with values forming the reverse lookup.\n",
      " |      \n",
      " |      >>> IP('213.221.113.87/32').reverseNames()\n",
      " |      ['87.113.221.213.in-addr.arpa.']\n",
      " |      >>> IP('213.221.112.224/30').reverseNames()\n",
      " |      ['224.112.221.213.in-addr.arpa.', '225.112.221.213.in-addr.arpa.', '226.112.221.213.in-addr.arpa.', '227.112.221.213.in-addr.arpa.']\n",
      " |      >>> IP('127.0.0.0/24').reverseNames()\n",
      " |      ['0.0.127.in-addr.arpa.']\n",
      " |      >>> IP('127.0.0.0/23').reverseNames()\n",
      " |      ['0.0.127.in-addr.arpa.', '1.0.127.in-addr.arpa.']\n",
      " |      >>> IP('127.0.0.0/16').reverseNames()\n",
      " |      ['0.127.in-addr.arpa.']\n",
      " |      >>> IP('127.0.0.0/15').reverseNames()\n",
      " |      ['0.127.in-addr.arpa.', '1.127.in-addr.arpa.']\n",
      " |      >>> IP('128.0.0.0/8').reverseNames()\n",
      " |      ['128.in-addr.arpa.']\n",
      " |      >>> IP('128.0.0.0/7').reverseNames()\n",
      " |      ['128.in-addr.arpa.', '129.in-addr.arpa.']\n",
      " |      >>> IP('::1:2').reverseNames()\n",
      " |      ['2.0.0.0.1.ip6.arpa.']\n",
      " |  \n",
      " |  v46map(self)\n",
      " |      Returns the IPv6 mapped address of an IPv4 address, or the corresponding\n",
      " |      IPv4 address if the IPv6 address is in the appropriate range.\n",
      " |      Raises a ValueError if the IPv6 address is not translatable. See RFC 4291.\n",
      " |      \n",
      " |      >>> IP('192.168.1.1').v46map()\n",
      " |      IP('::ffff:192.168.1.1')\n",
      " |      >>> IP('::ffff:192.168.1.1').v46map()\n",
      " |      IP('192.168.1.1')\n",
      " |  \n",
      " |  ----------------------------------------------------------------------\n",
      " |  Methods inherited from IPint:\n",
      " |  \n",
      " |  __add__(self, other)\n",
      " |      Emulate numeric objects through network aggregation\n",
      " |  \n",
      " |  __bool__(self)\n",
      " |  \n",
      " |  __cmp__(self, other)\n",
      " |      Called by comparison operations.\n",
      " |      \n",
      " |      Should return a negative integer if self < other, zero if self\n",
      " |      == other, a positive integer if self > other.\n",
      " |      \n",
      " |      Order is first determined by the address family. IPv4 addresses\n",
      " |      are always smaller than IPv6 addresses:\n",
      " |      \n",
      " |      >>> IP('10.0.0.0') < IP('2001:db8::')\n",
      " |      1\n",
      " |      \n",
      " |      Then the first address is compared. Lower addresses are\n",
      " |      always smaller:\n",
      " |      \n",
      " |      >>> IP('10.0.0.0') > IP('10.0.0.1')\n",
      " |      0\n",
      " |      >>> IP('10.0.0.0/24') > IP('10.0.0.1')\n",
      " |      0\n",
      " |      >>> IP('10.0.1.0') > IP('10.0.0.0/24')\n",
      " |      1\n",
      " |      >>> IP('10.0.1.0/24') > IP('10.0.0.0/24')\n",
      " |      1\n",
      " |      >>> IP('10.0.1.0/24') > IP('10.0.0.0')\n",
      " |      1\n",
      " |      \n",
      " |      Then the prefix length is compared. Shorter prefixes are\n",
      " |      considered smaller than longer prefixes:\n",
      " |      \n",
      " |      >>> IP('10.0.0.0/24') > IP('10.0.0.0')\n",
      " |      0\n",
      " |      >>> IP('10.0.0.0/24') > IP('10.0.0.0/25')\n",
      " |      0\n",
      " |      >>> IP('10.0.0.0/24') > IP('10.0.0.0/23')\n",
      " |      1\n",
      " |  \n",
      " |  __contains__(self, item)\n",
      " |      Called to implement membership test operators.\n",
      " |      \n",
      " |      Should return true if item is in self, false otherwise. Item\n",
      " |      can be other IP-objects, strings or ints.\n",
      " |      \n",
      " |      >>> IP('195.185.1.1').strHex()\n",
      " |      '0xc3b90101'\n",
      " |      >>> 0xC3B90101 in IP('195.185.1.0/24')\n",
      " |      True\n",
      " |      >>> '127.0.0.1' in IP('127.0.0.0/24')\n",
      " |      True\n",
      " |      >>> IP('127.0.0.0/24') in IP('127.0.0.0/25')\n",
      " |      False\n",
      " |  \n",
      " |  __eq__(self, other)\n",
      " |      Return self==value.\n",
      " |  \n",
      " |  __hash__(self)\n",
      " |      Called for the key object for dictionary operations, and by\n",
      " |      the built-in function hash(). Should return a 32-bit integer\n",
      " |      usable as a hash value for dictionary operations. The only\n",
      " |      required property is that objects which compare equal have the\n",
      " |      same hash value\n",
      " |      \n",
      " |      >>> IP('10.0.0.0/24').__hash__()\n",
      " |      -167772185\n",
      " |  \n",
      " |  __init__(self, data, ipversion=0, make_net=0)\n",
      " |      Create an instance of an IP object.\n",
      " |      \n",
      " |      Data can be a network specification or a single IP. IP\n",
      " |      addresses can be specified in all forms understood by\n",
      " |      parseAddress(). The size of a network can be specified as\n",
      " |      \n",
      " |      /prefixlen        a.b.c.0/24               2001:658:22a:cafe::/64\n",
      " |      -lastIP           a.b.c.0-a.b.c.255        2001:658:22a:cafe::-2001:658:22a:cafe:ffff:ffff:ffff:ffff\n",
      " |      /decimal netmask  a.b.c.d/255.255.255.0    not supported for IPv6\n",
      " |      \n",
      " |      If no size specification is given a size of 1 address (/32 for\n",
      " |      IPv4 and /128 for IPv6) is assumed.\n",
      " |      \n",
      " |      If make_net is True, an IP address will be transformed into the network\n",
      " |      address by applying the specified netmask.\n",
      " |      \n",
      " |      >>> print(IP('127.0.0.0/8'))\n",
      " |      127.0.0.0/8\n",
      " |      >>> print(IP('127.0.0.0/255.0.0.0'))\n",
      " |      127.0.0.0/8\n",
      " |      >>> print(IP('127.0.0.0-127.255.255.255'))\n",
      " |      127.0.0.0/8\n",
      " |      >>> print(IP('127.0.0.1/255.0.0.0', make_net=True))\n",
      " |      127.0.0.0/8\n",
      " |      \n",
      " |      See module documentation for more examples.\n",
      " |  \n",
      " |  __le__(self, other)\n",
      " |      Return self<=value.\n",
      " |  \n",
      " |  __len__(self)\n",
      " |      Return the length of a subnet.\n",
      " |      \n",
      " |      Called to implement the built-in function len().\n",
      " |      It will break with large IPv6 Networks.\n",
      " |      Use the object's len() instead.\n",
      " |  \n",
      " |  __lt__(self, other)\n",
      " |      Return self<value.\n",
      " |  \n",
      " |  __ne__(self, other)\n",
      " |      Return self!=value.\n",
      " |  \n",
      " |  __nonzero__(self)\n",
      " |      All IPy objects should evaluate to true in boolean context.\n",
      " |      Ordinarily they do, but if handling a default route expressed as\n",
      " |      0.0.0.0/0, the __len__() of the object becomes 0, which is used\n",
      " |      as the boolean value of the object.\n",
      " |  \n",
      " |  __str__(self)\n",
      " |      Dispatch to the prefered String Representation.\n",
      " |      \n",
      " |      Used to implement str(IP).\n",
      " |  \n",
      " |  __sub__(self, other)\n",
      " |      Return the prefixes that are in this IP but not in the other\n",
      " |  \n",
      " |  int(self)\n",
      " |      Return the first / base / network addess as an (long) integer.\n",
      " |      \n",
      " |      The same as IP[0].\n",
      " |      \n",
      " |      >>> \"%X\" % IP('10.0.0.0/8').int()\n",
      " |      'A000000'\n",
      " |  \n",
      " |  iptype(self)\n",
      " |      Return a description of the IP type ('PRIVATE', 'RESERVED', etc).\n",
      " |      \n",
      " |      >>> print(IP('127.0.0.1').iptype())\n",
      " |      LOOPBACK\n",
      " |      >>> print(IP('192.168.1.1').iptype())\n",
      " |      PRIVATE\n",
      " |      >>> print(IP('195.185.1.2').iptype())\n",
      " |      PUBLIC\n",
      " |      >>> print(IP('::1').iptype())\n",
      " |      LOOPBACK\n",
      " |      >>> print(IP('2001:0658:022a:cafe:0200::1').iptype())\n",
      " |      ALLOCATED RIPE NCC\n",
      " |      \n",
      " |      The type information for IPv6 is out of sync with reality.\n",
      " |  \n",
      " |  len(self)\n",
      " |      Return the length of a subnet.\n",
      " |      \n",
      " |      >>> print(IP('195.185.1.0/28').len())\n",
      " |      16\n",
      " |      >>> print(IP('195.185.1.0/24').len())\n",
      " |      256\n",
      " |  \n",
      " |  overlaps(self, item)\n",
      " |      Check if two IP address ranges overlap.\n",
      " |      \n",
      " |      Returns 0 if the two ranges don't overlap, 1 if the given\n",
      " |      range overlaps at the end and -1 if it does at the beginning.\n",
      " |      \n",
      " |      >>> IP('192.168.0.0/23').overlaps('192.168.1.0/24')\n",
      " |      1\n",
      " |      >>> IP('192.168.0.0/23').overlaps('192.168.1.255')\n",
      " |      1\n",
      " |      >>> IP('192.168.0.0/23').overlaps('192.168.2.0')\n",
      " |      0\n",
      " |      >>> IP('192.168.1.0/24').overlaps('192.168.0.0/23')\n",
      " |      -1\n",
      " |  \n",
      " |  prefixlen(self)\n",
      " |      Returns Network Prefixlen.\n",
      " |      \n",
      " |      >>> IP('10.0.0.0/8').prefixlen()\n",
      " |      8\n",
      " |  \n",
      " |  strBin(self, wantprefixlen=None)\n",
      " |      Return a string representation as a binary value.\n",
      " |      \n",
      " |      >>> print(IP('127.0.0.1').strBin())\n",
      " |      01111111000000000000000000000001\n",
      " |      >>> print(IP('2001:0658:022a:cafe:0200::1').strBin())\n",
      " |      00100000000000010000011001011000000000100010101011001010111111100000001000000000000000000000000000000000000000000000000000000001\n",
      " |  \n",
      " |  strCompressed(self, wantprefixlen=None)\n",
      " |      Return a string representation in compressed format using '::' Notation.\n",
      " |      \n",
      " |      >>> IP('127.0.0.1').strCompressed()\n",
      " |      '127.0.0.1'\n",
      " |      >>> IP('2001:0658:022a:cafe:0200::1').strCompressed()\n",
      " |      '2001:658:22a:cafe:200::1'\n",
      " |      >>> IP('ffff:ffff:ffff:ffff:ffff:f:f:fffc/127').strCompressed()\n",
      " |      'ffff:ffff:ffff:ffff:ffff:f:f:fffc/127'\n",
      " |  \n",
      " |  strDec(self, wantprefixlen=None)\n",
      " |      Return a string representation in decimal format.\n",
      " |      \n",
      " |      >>> print(IP('127.0.0.1').strDec())\n",
      " |      2130706433\n",
      " |      >>> print(IP('2001:0658:022a:cafe:0200::1').strDec())\n",
      " |      42540616829182469433547762482097946625\n",
      " |  \n",
      " |  strFullsize(self, wantprefixlen=None)\n",
      " |      Return a string representation in the non-mangled format.\n",
      " |      \n",
      " |      >>> print(IP('127.0.0.1').strFullsize())\n",
      " |      127.0.0.1\n",
      " |      >>> print(IP('2001:0658:022a:cafe:0200::1').strFullsize())\n",
      " |      2001:0658:022a:cafe:0200:0000:0000:0001\n",
      " |  \n",
      " |  strHex(self, wantprefixlen=None)\n",
      " |      Return a string representation in hex format in lower case.\n",
      " |      \n",
      " |      >>> print(IP('127.0.0.1').strHex())\n",
      " |      0x7f000001\n",
      " |      >>> print(IP('2001:0658:022a:cafe:0200::1').strHex())\n",
      " |      0x20010658022acafe0200000000000001\n",
      " |  \n",
      " |  strNetmask(self)\n",
      " |      Return netmask as an string. Mostly useful for IPv6.\n",
      " |      \n",
      " |      >>> print(IP('195.185.0.0/16').strNetmask())\n",
      " |      255.255.0.0\n",
      " |      >>> print(IP('2001:0658:022a:cafe::0/64').strNetmask())\n",
      " |      /64\n",
      " |  \n",
      " |  strNormal(self, wantprefixlen=None)\n",
      " |      Return a string representation in the usual format.\n",
      " |      \n",
      " |      >>> print(IP('127.0.0.1').strNormal())\n",
      " |      127.0.0.1\n",
      " |      >>> print(IP('2001:0658:022a:cafe:0200::1').strNormal())\n",
      " |      2001:658:22a:cafe:200:0:0:1\n",
      " |  \n",
      " |  version(self)\n",
      " |      Return the IP version of this Object.\n",
      " |      \n",
      " |      >>> IP('10.0.0.0/8').version()\n",
      " |      4\n",
      " |      >>> IP('::1').version()\n",
      " |      6\n",
      " |  \n",
      " |  ----------------------------------------------------------------------\n",
      " |  Data descriptors inherited from IPint:\n",
      " |  \n",
      " |  __dict__\n",
      " |      dictionary for instance variables (if defined)\n",
      " |  \n",
      " |  __weakref__\n",
      " |      list of weak references to the object (if defined)\n",
      "\n"
     ]
    }
   ],
   "source": [
    "help(IP)"
   ]
  },
  {
   "cell_type": "markdown",
   "metadata": {},
   "source": [
    "# Q3"
   ]
  },
  {
   "cell_type": "code",
   "execution_count": null,
   "metadata": {},
   "outputs": [],
   "source": [
    "# Use the previous class to create functions for a subnet calculator.\n",
    "\n",
    "\n",
    "# The calculator takes a IP address and its mask and produces the following.\n",
    "# • The Network Address, Broadcast Address\n",
    "# • The first host, last host, total number of hosts\n",
    "\n",
    "#examle test\n",
    "ipv4_Q3 = IP4Addres([10,0,1,7], 24)"
   ]
  },
  {
   "cell_type": "code",
   "execution_count": 327,
   "metadata": {},
   "outputs": [],
   "source": [
    "class Subnet_calculator(IP4Addres):\n",
    "    def __init__(self,add = [10,0,1,7],mask_num = 24):\n",
    "        super(Subnet_calculator, self).__init__(add = [10,0,1,7],mask_num = 24)\n",
    "        self.addressList = self.getAddress()\n",
    "    def getNetworkAddress(self):\n",
    "#         return self.addressList[0]\n",
    "        return self.addressList[1]\n",
    "    def getBroadcastAddress(self):\n",
    "        return self.addressList[-1]\n",
    "    def first_last_totalNumberofHoust(self):\n",
    "        return self.addressList[1].strNormal(),self.addressList[-2].strNormal(),len(self.addressList)-2\n",
    "        "
   ]
  },
  {
   "cell_type": "code",
   "execution_count": 328,
   "metadata": {},
   "outputs": [],
   "source": [
    "# cal_net = Subnet_calculator(add = [10,0,1,7],mask_num = 24)\n",
    "# # print(cal_net.getAddress())\n",
    "# addr_temp_list = cal_net.getAddress()\n",
    "# print(addr_temp_list[1])"
   ]
  },
  {
   "cell_type": "code",
   "execution_count": 330,
   "metadata": {},
   "outputs": [],
   "source": [
    "cal_net = Subnet_calculator(add = [10,0,1,7],mask_num = 24)\n",
    "# print(cal_net.getAddress())"
   ]
  },
  {
   "cell_type": "code",
   "execution_count": 332,
   "metadata": {},
   "outputs": [
    {
     "name": "stdout",
     "output_type": "stream",
     "text": [
      "10.0.1.255\n"
     ]
    }
   ],
   "source": [
    "print(cal_net.getBroadcastAddress())"
   ]
  },
  {
   "cell_type": "code",
   "execution_count": 333,
   "metadata": {},
   "outputs": [],
   "source": [
    "# print(cal_net.getNetworkAddress())\n",
    "first_host, last_host, totalnumber_of_host = cal_net.first_last_totalNumberofHoust()"
   ]
  },
  {
   "cell_type": "code",
   "execution_count": 336,
   "metadata": {},
   "outputs": [
    {
     "name": "stdout",
     "output_type": "stream",
     "text": [
      "first host: 10.0.1.1\n",
      "last_host 10.0.1.254\n",
      "total_number_of_host: 254\n"
     ]
    }
   ],
   "source": [
    "print(\"first host: {}\\nlast_host {}\\ntotal_number_of_host: {}\"\n",
    "     .format(first_host,last_host,totalnumber_of_host))"
   ]
  },
  {
   "cell_type": "markdown",
   "metadata": {},
   "source": [
    "# Task"
   ]
  },
  {
   "cell_type": "markdown",
   "metadata": {},
   "source": [
    "# Task 1"
   ]
  },
  {
   "cell_type": "code",
   "execution_count": 1,
   "metadata": {},
   "outputs": [
    {
     "name": "stdout",
     "output_type": "stream",
     "text": [
      "distance between points is: 1.4142135623730951\n"
     ]
    }
   ],
   "source": [
    "class Point(object):\n",
    "    def __init__(self, x, y):\n",
    "        self.x = x\n",
    "        self.y = y\n",
    "    def __str__(self):\n",
    "        return f\"x: {self.x}, y: {self.y}\"\n",
    "\n",
    "        \n",
    "def distance_between_points(point_from, porint_to):\n",
    "        from math import sqrt\n",
    "        return sqrt((point_from.x-porint_to.x)**2+(point_from.y-porint_to.y)**2)\n",
    "    \n",
    "p_f = Point(0,0)\n",
    "p_t = Point(1,1)\n",
    "\n",
    "print(\"distance between points is: {}\".format(distance_between_points(p_f,p_t)))\n",
    "# print(p_f)"
   ]
  },
  {
   "cell_type": "markdown",
   "metadata": {},
   "source": [
    "# Task 2"
   ]
  },
  {
   "cell_type": "code",
   "execution_count": 10,
   "metadata": {},
   "outputs": [
    {
     "name": "stdout",
     "output_type": "stream",
     "text": [
      "x: 50.0, y: 100.0\n"
     ]
    }
   ],
   "source": [
    "class Rectangle(object):\n",
    "    def __init__(self, width = 100, height = 200 ,corner = Point(0,0)):\n",
    "        self.width = width\n",
    "        self.height = height\n",
    "        self.corner = corner\n",
    "        \n",
    "    def __str__(self):\n",
    "        return f\"corner: {self.corner}, width: {self.width}, height {self.height}\"\n",
    "        \n",
    "def find_center(rect_input):\n",
    "    x_return = rect_input.width/2.0+rect_input.corner.x\n",
    "    y_return = rect_input.height/2.0+rect_input.corner.y\n",
    "    return Point(x_return,y_return)\n",
    "    \n",
    "    \n",
    "rect = Rectangle(100,200,Point(0,0))\n",
    "print(find_center(rect))"
   ]
  },
  {
   "cell_type": "code",
   "execution_count": 14,
   "metadata": {},
   "outputs": [
    {
     "name": "stdout",
     "output_type": "stream",
     "text": [
      "corner: x: 1, y: 2, width: 100, height 200\n"
     ]
    }
   ],
   "source": [
    "def move_rectangle(rect_input, d_x, d_y):\n",
    "    rect_input.corner.x = rect_input.corner.x+d_x\n",
    "    rect_input.corner.y = rect_input.corner.y+d_y\n",
    "#     return rect_input\n",
    "move_rectangle(rect, 1,2)\n",
    "print(rect)"
   ]
  },
  {
   "cell_type": "markdown",
   "metadata": {},
   "source": [
    "# Task 3"
   ]
  },
  {
   "cell_type": "markdown",
   "metadata": {},
   "source": [
    "PS: actually the answer of this part is much the same as previous part."
   ]
  },
  {
   "cell_type": "code",
   "execution_count": 16,
   "metadata": {},
   "outputs": [
    {
     "name": "stdout",
     "output_type": "stream",
     "text": [
      "x: 250, y: 666\n"
     ]
    }
   ],
   "source": [
    "class Point(object):\n",
    "    def __init__(self, x, y):\n",
    "        self.x = x\n",
    "        self.y = y\n",
    "    def __str__(self):\n",
    "        return f\"x: {self.x}, y: {self.y}\"\n",
    "    def __add__(self, another_point):\n",
    "        new_x = self.x + another_point.x\n",
    "        new_y = self.y + another_point.y\n",
    "        return Point(new_x,new_y)\n",
    "\n",
    "point_test = Point(250,666)\n",
    "point_to_add = Point(2,3)\n",
    "print(point_test)"
   ]
  },
  {
   "cell_type": "code",
   "execution_count": 18,
   "metadata": {},
   "outputs": [
    {
     "name": "stdout",
     "output_type": "stream",
     "text": [
      "x: 252, y: 669\n"
     ]
    }
   ],
   "source": [
    "print(point_test + point_to_add)"
   ]
  },
  {
   "cell_type": "markdown",
   "metadata": {},
   "source": [
    "# Task 4"
   ]
  },
  {
   "cell_type": "code",
   "execution_count": 53,
   "metadata": {},
   "outputs": [],
   "source": [
    "class Time(object):\n",
    "    def __init__(self,hour, minutes, seconds):\n",
    "        self.hour = hour\n",
    "        self.minutes = minutes\n",
    "        self.seconds = seconds\n",
    "    def __str__(self):\n",
    "#         return (\"%.2d:%.2d:%.2d\"%(self.hour,self.minutes,self.seconds))\n",
    "        return \"{:0>2d}:{:0>2d}:{:0>2d}\".format(self.hour,self.minutes,self.seconds)"
   ]
  },
  {
   "cell_type": "code",
   "execution_count": 54,
   "metadata": {},
   "outputs": [
    {
     "name": "stdout",
     "output_type": "stream",
     "text": [
      "02:34:01\n"
     ]
    }
   ],
   "source": [
    "t_demo = Time(2,34,1)\n",
    "print(t_demo)"
   ]
  },
  {
   "cell_type": "code",
   "execution_count": 57,
   "metadata": {},
   "outputs": [
    {
     "name": "stdout",
     "output_type": "stream",
     "text": [
      "False\n",
      "True\n"
     ]
    }
   ],
   "source": [
    "def is_after(t1,t2):\n",
    "    t1_sum = t1.hour+t1.minutes+t1.seconds\n",
    "    t2_sum = t2.hour+t2.minutes+t2.seconds\n",
    "    return t1_sum>t2_sum\n",
    "\n",
    "t1 = Time(0,0,0)\n",
    "t2 = Time(1,1,1)\n",
    "\n",
    "print(is_after(t1,t2))\n",
    "print(is_after(t2,t1))"
   ]
  },
  {
   "cell_type": "markdown",
   "metadata": {},
   "source": [
    "# Task 5"
   ]
  },
  {
   "cell_type": "code",
   "execution_count": 67,
   "metadata": {},
   "outputs": [],
   "source": [
    "class Kangaroo(object):\n",
    "    def __init__(self):\n",
    "        self.pouch_contents = []\n",
    "    def put_in_pouch(self, obj_input):\n",
    "        self.pouch_contents.append(obj_input)\n",
    "    def __str__(self):\n",
    "        #returns a string representation of the Kangaroo object \n",
    "        #and the contents of the pouch.\n",
    "        st_1 = self.pouch_contents\n",
    "        st_2 = str(len(self.pouch_contents))\n",
    "        return f\"length of kangaroo obj: {st_2}\\n content: {st_1}\"\n"
   ]
  },
  {
   "cell_type": "code",
   "execution_count": 68,
   "metadata": {},
   "outputs": [
    {
     "name": "stdout",
     "output_type": "stream",
     "text": [
      "length of kangaroo obj: 2\n",
      " content: [<__main__.Point object at 0x7f9d80741b10>, <__main__.Point object at 0x7f9d80741150>]\n",
      "length of kangaroo obj: 2\n",
      " content: [<__main__.Point object at 0x7f9d80741650>, <__main__.Point object at 0x7f9d80741650>]\n",
      "================\n",
      "length of kangaroo obj: 3\n",
      " content: [<__main__.Point object at 0x7f9d80741b10>, <__main__.Point object at 0x7f9d80741150>, [<__main__.Point object at 0x7f9d80741650>, <__main__.Point object at 0x7f9d80741650>]]\n"
     ]
    }
   ],
   "source": [
    "kanga = Kangaroo()\n",
    "roo = Kangaroo()\n",
    "#test_data:\n",
    "test_point_1 = Point(1,1)\n",
    "test_point_2 = Point(2,2)\n",
    "test_point_3 = Point(3,3)\n",
    "test_point_4 = Point(4,4)\n",
    "kanga.put_in_pouch(test_point_1)\n",
    "kanga.put_in_pouch(test_point_2)\n",
    "\n",
    "roo.put_in_pouch(test_point_3)\n",
    "roo.put_in_pouch(test_point_3)\n",
    "print(kanga)\n",
    "print(roo)\n",
    "print('================')\n",
    "kanga.put_in_pouch(roo.pouch_contents)\n",
    "print(kanga)\n"
   ]
  },
  {
   "cell_type": "markdown",
   "metadata": {},
   "source": [
    "# Task 6"
   ]
  },
  {
   "cell_type": "code",
   "execution_count": 69,
   "metadata": {},
   "outputs": [
    {
     "name": "stdout",
     "output_type": "stream",
     "text": [
      "True\tFalse\tFalse\t\n",
      "True\tTrue\tFalse\t\n",
      "True\tTrue\tTrue\t\n"
     ]
    }
   ],
   "source": [
    "class Vehicle:\n",
    "    pass\n",
    "class LandVehicle(Vehicle):\n",
    "    pass\n",
    "class TrackedVehicle(LandVehicle):\n",
    "    pass\n",
    "\n",
    "vehicle = Vehicle()\n",
    "landvehicle = LandVehicle()\n",
    "trackedvehicle = TrackedVehicle()\n",
    "\n",
    "for ob in [vehicle, landvehicle, trackedvehicle]:\n",
    "    for cl in [Vehicle, LandVehicle, TrackedVehicle]:\n",
    "        print(isinstance(ob,cl),end='\\t')\n",
    "    print()"
   ]
  },
  {
   "cell_type": "markdown",
   "metadata": {},
   "source": [
    "# Task 7"
   ]
  },
  {
   "cell_type": "code",
   "execution_count": 70,
   "metadata": {},
   "outputs": [
    {
     "name": "stdout",
     "output_type": "stream",
     "text": [
      "True\tFalse\tFalse\t\n",
      "True\tTrue\tFalse\t\n",
      "True\tTrue\tTrue\t\n"
     ]
    }
   ],
   "source": [
    "class Vehicle:\n",
    "    pass\n",
    "class LandVehicle(Vehicle):\n",
    "    pass\n",
    "class TrackedVehicle(LandVehicle):\n",
    "    pass\n",
    "\n",
    "vehicle = Vehicle()\n",
    "landvehicle = LandVehicle()\n",
    "trackedvehicle = TrackedVehicle()\n",
    "\n",
    "for ob in [vehicle, landvehicle, trackedvehicle]:\n",
    "    for cl in [Vehicle, LandVehicle, TrackedVehicle]:\n",
    "        print(isinstance(ob,cl),end='\\t')\n",
    "    print()"
   ]
  },
  {
   "cell_type": "code",
   "execution_count": null,
   "metadata": {},
   "outputs": [],
   "source": []
  }
 ],
 "metadata": {
  "kernelspec": {
   "display_name": "Python 3",
   "language": "python",
   "name": "python3"
  },
  "language_info": {
   "codemirror_mode": {
    "name": "ipython",
    "version": 3
   },
   "file_extension": ".py",
   "mimetype": "text/x-python",
   "name": "python",
   "nbconvert_exporter": "python",
   "pygments_lexer": "ipython3",
   "version": "3.7.4"
  }
 },
 "nbformat": 4,
 "nbformat_minor": 2
}
